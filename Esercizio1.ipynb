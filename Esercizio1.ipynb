{
 "cells": [
  {
   "cell_type": "code",
   "execution_count": 1,
   "id": "0cbc364e-7819-4ede-a3cb-b7a14ca0d3ea",
   "metadata": {},
   "outputs": [],
   "source": [
    "studenti = 25"
   ]
  },
  {
   "cell_type": "code",
   "execution_count": 3,
   "id": "f986818a-0382-4c7c-932c-af3e507ebd23",
   "metadata": {},
   "outputs": [
    {
     "name": "stdout",
     "output_type": "stream",
     "text": [
      "25\n"
     ]
    }
   ],
   "source": [
    "print(studenti)"
   ]
  },
  {
   "cell_type": "code",
   "execution_count": 5,
   "id": "648c5383-c409-4352-88be-85aeac6e59f8",
   "metadata": {},
   "outputs": [],
   "source": [
    "studenti = studenti + 3"
   ]
  },
  {
   "cell_type": "code",
   "execution_count": 7,
   "id": "c97e37df-19cb-4e4d-b26f-efeea5cb97cf",
   "metadata": {},
   "outputs": [
    {
     "name": "stdout",
     "output_type": "stream",
     "text": [
      "28\n"
     ]
    }
   ],
   "source": [
    "print(studenti)"
   ]
  },
  {
   "cell_type": "code",
   "execution_count": 11,
   "id": "c59251c0-7fe1-4cdd-bd31-914915996789",
   "metadata": {},
   "outputs": [
    {
     "data": {
      "text/plain": [
       "'Epicode'"
      ]
     },
     "execution_count": 11,
     "metadata": {},
     "output_type": "execute_result"
    }
   ],
   "source": [
    "\"Epicode\""
   ]
  },
  {
   "cell_type": "code",
   "execution_count": 15,
   "id": "f7abd4e2-309a-4c3d-a820-53c8722fdb97",
   "metadata": {},
   "outputs": [],
   "source": [
    "x = x + 2"
   ]
  },
  {
   "cell_type": "code",
   "execution_count": 17,
   "id": "485587fa-0e2f-46b4-936d-a26c860ec90b",
   "metadata": {},
   "outputs": [],
   "source": [
    "x = x * 3"
   ]
  },
  {
   "cell_type": "code",
   "execution_count": 19,
   "id": "63b46e50-2bd2-47d6-815c-55a2590e625f",
   "metadata": {},
   "outputs": [
    {
     "name": "stdout",
     "output_type": "stream",
     "text": [
      "36\n"
     ]
    }
   ],
   "source": [
    "print(x)"
   ]
  },
  {
   "cell_type": "code",
   "execution_count": 23,
   "id": "d71f8238-86fb-4e76-853b-d75ae6e55a80",
   "metadata": {},
   "outputs": [],
   "source": [
    "str1 = \"Windows\" \n",
    "str2 = \"Excel\" \n",
    "str3 = \"Powerpoint\" \n",
    "str4 = \"Word\""
   ]
  },
  {
   "cell_type": "code",
   "execution_count": 27,
   "id": "db462ed5-31eb-45c3-95a4-a0b65f8d1cc5",
   "metadata": {},
   "outputs": [
    {
     "data": {
      "text/plain": [
       "7"
      ]
     },
     "execution_count": 27,
     "metadata": {},
     "output_type": "execute_result"
    }
   ],
   "source": [
    "len(str1)\n"
   ]
  },
  {
   "cell_type": "code",
   "execution_count": 29,
   "id": "db4fe1a6-5918-45d7-b2ee-dd03d611900c",
   "metadata": {},
   "outputs": [
    {
     "data": {
      "text/plain": [
       "5"
      ]
     },
     "execution_count": 29,
     "metadata": {},
     "output_type": "execute_result"
    }
   ],
   "source": [
    "len(str2)"
   ]
  },
  {
   "cell_type": "code",
   "execution_count": 31,
   "id": "04007f52-cb1a-4eaa-af84-91b172dfa2d3",
   "metadata": {},
   "outputs": [
    {
     "data": {
      "text/plain": [
       "10"
      ]
     },
     "execution_count": 31,
     "metadata": {},
     "output_type": "execute_result"
    }
   ],
   "source": [
    "len(str3)"
   ]
  },
  {
   "cell_type": "code",
   "execution_count": 33,
   "id": "e8fe7bc2-753d-4ed5-b45e-6a9c0c8cbc65",
   "metadata": {},
   "outputs": [
    {
     "data": {
      "text/plain": [
       "4"
      ]
     },
     "execution_count": 33,
     "metadata": {},
     "output_type": "execute_result"
    }
   ],
   "source": [
    "len(str4)"
   ]
  },
  {
   "cell_type": "code",
   "execution_count": 35,
   "id": "7eaac25b-abbd-495e-b522-e424c4bed2c1",
   "metadata": {},
   "outputs": [],
   "source": [
    "my_string = \"I am studying Python\""
   ]
  },
  {
   "cell_type": "code",
   "execution_count": 39,
   "id": "c17ef07c-c56e-4786-bc5e-5138c34af0fa",
   "metadata": {},
   "outputs": [
    {
     "name": "stdout",
     "output_type": "stream",
     "text": [
      "I AM STUDYING PYTHON\n"
     ]
    }
   ],
   "source": [
    "stringa = \"I am studying Python\"\n",
    "stringa_maiuscola = stringa.upper()\n",
    "print(stringa_maiuscola)\n"
   ]
  },
  {
   "cell_type": "code",
   "execution_count": 41,
   "id": "1e3514a1-5133-49a1-bc0a-15ba4b4d5a8d",
   "metadata": {},
   "outputs": [
    {
     "name": "stdout",
     "output_type": "stream",
     "text": [
      "i am studying python\n"
     ]
    }
   ],
   "source": [
    "stringa_minuscola = stringa.lower()\n",
    "print(stringa_minuscola)\n"
   ]
  },
  {
   "cell_type": "code",
   "execution_count": 47,
   "id": "624bb72b-f347-48fa-a61f-92e0ce7aa780",
   "metadata": {},
   "outputs": [
    {
     "name": "stdout",
     "output_type": "stream",
     "text": [
      "I am studying a lot\n"
     ]
    }
   ],
   "source": [
    "stringa_modificata = stringa.replace(\"Python\", \"a lot\")\n",
    "print(stringa_modificata)"
   ]
  },
  {
   "cell_type": "code",
   "execution_count": 49,
   "id": "02f92fdd-7bce-4ed4-a5b4-aa1d37364f27",
   "metadata": {},
   "outputs": [
    {
     "name": "stdout",
     "output_type": "stream",
     "text": [
      "I am studying Python\n"
     ]
    }
   ],
   "source": [
    "stringa_senza_spazi = stringa.strip()\n",
    "print(stringa_senza_spazi)"
   ]
  },
  {
   "cell_type": "code",
   "execution_count": null,
   "id": "f75e4676-7c05-4be7-b342-099e3458a916",
   "metadata": {},
   "outputs": [],
   "source": []
  }
 ],
 "metadata": {
  "kernelspec": {
   "display_name": "Python 3 (ipykernel)",
   "language": "python",
   "name": "python3"
  },
  "language_info": {
   "codemirror_mode": {
    "name": "ipython",
    "version": 3
   },
   "file_extension": ".py",
   "mimetype": "text/x-python",
   "name": "python",
   "nbconvert_exporter": "python",
   "pygments_lexer": "ipython3",
   "version": "3.12.7"
  }
 },
 "nbformat": 4,
 "nbformat_minor": 5
}
